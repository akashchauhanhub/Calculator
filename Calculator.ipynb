{
 "cells": [
  {
   "cell_type": "code",
   "execution_count": 3,
   "id": "387dcc8b-72f0-4b65-91fe-f1e4fa528d4a",
   "metadata": {},
   "outputs": [],
   "source": [
    "import tkinter as tk\n",
    "\n",
    "# Function update the entry widget when button press.\n",
    "def button_click(value):\n",
    "    current_text = entry.get()\n",
    "    entry.delete(0, tk.END)  # Clear entry widget\n",
    "    entry.insert(tk.END, current_text + value)\n",
    "\n",
    "# Function define the expression.\n",
    "def evaluate_expression():\n",
    "    try:\n",
    "        result = eval(entry.get())  # Use Python's eval function to define the expression.\n",
    "        entry.delete(0, tk.END)\n",
    "        entry.insert(tk.END, str(result))  # Show Result on display.\n",
    "    except Exception as e:\n",
    "        entry.delete(0, tk.END)\n",
    "        entry.insert(tk.END, \"Error\")\n",
    "\n",
    "# Function clear the entry widget.\n",
    "def clear_entry():\n",
    "    entry.delete(0, tk.END)\n",
    "\n",
    "# Create main window.\n",
    "root = tk.Tk()\n",
    "root.title(\"Simple Calculator\")\n",
    "\n",
    "# Create entry widget where input and results will be show.\n",
    "entry = tk.Entry(root, width=20, font=(\"Arial\", 20), borderwidth=2, relief=\"solid\", justify=\"right\")\n",
    "entry.grid(row=0, column=0, columnspan=4)\n",
    "\n",
    "# Create button for digit & operation.\n",
    "buttons = [\n",
    "    ('7', 1, 0), ('8', 1, 1), ('9', 1, 2), ('/', 1, 3),\n",
    "    ('4', 2, 0), ('5', 2, 1), ('6', 2, 2), ('*', 2, 3),\n",
    "    ('1', 3, 0), ('2', 3, 1), ('3', 3, 2), ('-', 3, 3),\n",
    "    ('0', 4, 0), ('.', 4, 1), ('=', 4, 2), ('+', 4, 3),\n",
    "    ('C', 5, 0),\n",
    "]\n",
    "\n",
    "# Loop through the button and add them to the window.\n",
    "for (text, row, col) in buttons:\n",
    "    if text == \"=\":\n",
    "        button = tk.Button(root, text=text, width=5, height=2, font=(\"Arial\", 20), command=evaluate_expression)\n",
    "    elif text == \"C\":\n",
    "        button = tk.Button(root, text=text, width=5, height=2, font=(\"Arial\", 20), command=clear_entry)\n",
    "    else:\n",
    "        button = tk.Button(root, text=text, width=5, height=2, font=(\"Arial\", 20), command=lambda value=text: button_click(value))\n",
    "    \n",
    "    button.grid(row=row, column=col)\n",
    "\n",
    "# Run tkinter main loop.\n",
    "root.mainloop()\n"
   ]
  },
  {
   "cell_type": "code",
   "execution_count": null,
   "id": "0ee9ea6a-a47e-4c23-942c-36a22f42f0c5",
   "metadata": {},
   "outputs": [],
   "source": []
  }
 ],
 "metadata": {
  "kernelspec": {
   "display_name": "Python 3 (ipykernel)",
   "language": "python",
   "name": "python3"
  },
  "language_info": {
   "codemirror_mode": {
    "name": "ipython",
    "version": 3
   },
   "file_extension": ".py",
   "mimetype": "text/x-python",
   "name": "python",
   "nbconvert_exporter": "python",
   "pygments_lexer": "ipython3",
   "version": "3.12.5"
  }
 },
 "nbformat": 4,
 "nbformat_minor": 5
}
